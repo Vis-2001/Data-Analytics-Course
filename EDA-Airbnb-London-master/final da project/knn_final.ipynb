{
 "cells": [
  {
   "cell_type": "code",
   "execution_count": 5,
   "metadata": {},
   "outputs": [],
   "source": [
    "import pandas as pd\n",
    "import numpy as np"
   ]
  },
  {
   "cell_type": "code",
   "execution_count": 2,
   "metadata": {},
   "outputs": [],
   "source": [
    "df=pd.read_csv('pred2.csv')\n",
    "df=df[['finl_income','latitude','longitude']]\n",
    "lati=list(df['latitude'])\n",
    "longi=list(df['longitude'])"
   ]
  },
  {
   "cell_type": "code",
   "execution_count": 3,
   "metadata": {},
   "outputs": [],
   "source": [
    "def knn2(latitude=0,longitude=0,place=0):\n",
    "    df=pd.read_csv('pred2.csv')\n",
    "    if(place!=0):\n",
    "        df=df[df['neighbourhood']==place]\n",
    "        return df['finl_income']\n",
    "    if(latitude>51.70 or latitude<51.25 or longitude<-0.5 or longitude>0.27):\n",
    "        return -1\n",
    "    df=df[['finl_income','latitude','longitude']]\n",
    "    df['latitude']=np.deg2rad(df['latitude'])\n",
    "    df['longitude']=np.deg2rad(df['longitude'])\n",
    "    latitude=latitude*22/(180*7)\n",
    "    longitude=longitude*22/(180*7)\n",
    "    df['nlati']=df['latitude']-latitude\n",
    "    df['nlongi']=df['longitude']-longitude\n",
    "    df['p1']=np.power(np.sin(df['nlati']/2),2)+np.cos(df['nlati'])*np.cos(df['nlongi'])*np.power(np.sin(df['nlongi']/2),2)\n",
    "    df['calc']=np.arcsin(np.sqrt(df['p1']))*2\n",
    "    df['calc']=df['calc']+0.00001\n",
    "    df['calc']=1/df['calc']\n",
    "    df=df.sort_values('calc')\n",
    "    df['calc2']=df['calc']*df['finl_income']\n",
    "    inc=list(df['calc2'])\n",
    "    inc1=list(df['calc'])\n",
    "    res=sum(inc[-3:])/sum(inc1[-3:])\n",
    "    return res"
   ]
  },
  {
   "cell_type": "code",
   "execution_count": 6,
   "metadata": {},
   "outputs": [
    {
     "name": "stdout",
     "output_type": "stream",
     "text": [
      "MAE(Mean Error in calculating the income of that place in a year): 801.1588068643963\n",
      "MAPE(Mean Percentage error in calculating the income of that place in a year): 4.9061021671979095\n"
     ]
    }
   ],
   "source": [
    "dfd=pd.read_csv('pred2.csv')\n",
    "actual=list(dfd['finl_income'])\n",
    "err=list()\n",
    "err1=list()\n",
    "for i in range(len(lati)):\n",
    "    pred=knn2(lati[i],longi[i])\n",
    "    err.append(abs(actual[i]-pred))\n",
    "    err1.append(abs(((actual[i]-pred)/actual[i])*100))\n",
    "print('MAE(Mean Error in calculating the income of that place in a year):',sum(err)/len(err))\n",
    "print('MAPE(Mean Percentage error in calculating the income of that place in a year):',sum(err1)/len(err1))"
   ]
  },
  {
   "cell_type": "code",
   "execution_count": null,
   "metadata": {},
   "outputs": [],
   "source": []
  }
 ],
 "metadata": {
  "kernelspec": {
   "display_name": "Python 3.9.7 ('base')",
   "language": "python",
   "name": "python3"
  },
  "language_info": {
   "codemirror_mode": {
    "name": "ipython",
    "version": 3
   },
   "file_extension": ".py",
   "mimetype": "text/x-python",
   "name": "python",
   "nbconvert_exporter": "python",
   "pygments_lexer": "ipython3",
   "version": "3.9.7"
  },
  "orig_nbformat": 4,
  "vscode": {
   "interpreter": {
    "hash": "b131c3223c4bbe0e5f8a5fc16e1401c7cea0ae1eab5d898389696380fbb75120"
   }
  }
 },
 "nbformat": 4,
 "nbformat_minor": 2
}
