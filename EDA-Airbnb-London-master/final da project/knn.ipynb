{
 "cells": [
  {
   "cell_type": "code",
   "execution_count": 1,
   "metadata": {},
   "outputs": [],
   "source": [
    "import pandas as pd"
   ]
  },
  {
   "cell_type": "code",
   "execution_count": 7,
   "metadata": {},
   "outputs": [],
   "source": [
    "df=pd.read_csv('pred2.csv')\n",
    "# df.head()"
   ]
  },
  {
   "cell_type": "code",
   "execution_count": 4,
   "metadata": {},
   "outputs": [],
   "source": [
    "df=df[['finl_income','latitude','longitude']]"
   ]
  },
  {
   "cell_type": "code",
   "execution_count": 5,
   "metadata": {},
   "outputs": [],
   "source": [
    "# df"
   ]
  },
  {
   "cell_type": "code",
   "execution_count": 8,
   "metadata": {},
   "outputs": [],
   "source": [
    "lati=list(df['latitude'])\n",
    "longi=list(df['longitude'])"
   ]
  },
  {
   "cell_type": "code",
   "execution_count": 7,
   "metadata": {},
   "outputs": [],
   "source": [
    "err=list()\n",
    "pred=list()\n",
    "for i in range(len(longi)):\n",
    "    df['calc']=(df['latitude']-lati[i])**2+(df['longitude']-longi[i])**2\n",
    "    df=df.sort_values('calc')\n",
    "    # df=df.head(3)\n",
    "    # print(df)\n",
    "    inc=list(df['finl_income'])\n",
    "    inc[0]=inc[0]/2\n",
    "    inc[1]=inc[1]/3\n",
    "    inc[2]=inc[2]/6\n",
    "    res=sum(inc[0:3])\n",
    "    pred.append(res)\n",
    "    err.append(abs(res-inc[0]*2)/(inc[0]*2)*100)\n",
    "# print(sum(err)/len(err))\n",
    "# dfd=pd.read_csv('pred2.csv')\n",
    "# print(dfd['finl_income'])\n",
    "# print(pred)"
   ]
  },
  {
   "cell_type": "code",
   "execution_count": 8,
   "metadata": {},
   "outputs": [
    {
     "name": "stdout",
     "output_type": "stream",
     "text": [
      "5.052086328556721\n"
     ]
    }
   ],
   "source": [
    "print(sum(err)/len(err))"
   ]
  },
  {
   "cell_type": "code",
   "execution_count": 9,
   "metadata": {},
   "outputs": [],
   "source": [
    "def knn(latitude=0,longitude=0,place=0):\n",
    "    df=pd.read_csv('pred2.csv')\n",
    "    if(place!=0):\n",
    "        df=df[df['neighbourhood']==place]\n",
    "        return df['finl_income']\n",
    "    if(latitude>51.70 or latitude<51.25 or longitude<-0.5 or longitude>0.27):\n",
    "        return -1\n",
    "    df=df[['finl_income','latitude','longitude']]\n",
    "    df['calc']=(df['latitude']-latitude)**2+(df['longitude']-longitude)**2\n",
    "    # df['calc']=df['calc']+5\n",
    "    df=df.sort_values('calc')\n",
    "    # df['calc2']=df['calc']*df['finl_income']\n",
    "    inc=list(df['finl_income'])\n",
    "    # inc1=list(df['calc'])\n",
    "    inc[0]=inc[0]/2\n",
    "    inc[1]=inc[1]/3\n",
    "    inc[2]=inc[2]/6\n",
    "    res=sum(inc[0:3])\n",
    "    return res"
   ]
  },
  {
   "cell_type": "code",
   "execution_count": 10,
   "metadata": {},
   "outputs": [
    {
     "data": {
      "text/plain": [
       "13069.68337722043"
      ]
     },
     "execution_count": 10,
     "metadata": {},
     "output_type": "execute_result"
    }
   ],
   "source": [
    "knn(51.54264543624161,0.1120940268456375)"
   ]
  },
  {
   "cell_type": "code",
   "execution_count": 11,
   "metadata": {},
   "outputs": [
    {
     "ename": "NameError",
     "evalue": "name 'knn1' is not defined",
     "output_type": "error",
     "traceback": [
      "\u001b[1;31m---------------------------------------------------------------------------\u001b[0m",
      "\u001b[1;31mNameError\u001b[0m                                 Traceback (most recent call last)",
      "\u001b[1;32m~\\AppData\\Local\\Temp/ipykernel_2376/1591543310.py\u001b[0m in \u001b[0;36m<module>\u001b[1;34m\u001b[0m\n\u001b[1;32m----> 1\u001b[1;33m \u001b[0mknn1\u001b[0m\u001b[1;33m(\u001b[0m\u001b[1;36m51.50\u001b[0m\u001b[1;33m,\u001b[0m\u001b[1;33m-\u001b[0m\u001b[1;36m0.1\u001b[0m\u001b[1;33m)\u001b[0m\u001b[1;33m\u001b[0m\u001b[1;33m\u001b[0m\u001b[0m\n\u001b[0m",
      "\u001b[1;31mNameError\u001b[0m: name 'knn1' is not defined"
     ]
    }
   ],
   "source": [
    "knn1(51.50,-0.1)"
   ]
  },
  {
   "cell_type": "code",
   "execution_count": null,
   "metadata": {},
   "outputs": [
    {
     "data": {
      "text/plain": [
       "-1"
      ]
     },
     "execution_count": 30,
     "metadata": {},
     "output_type": "execute_result"
    }
   ],
   "source": [
    "knn(51.75,-0.4)"
   ]
  },
  {
   "cell_type": "code",
   "execution_count": null,
   "metadata": {},
   "outputs": [
    {
     "data": {
      "text/plain": [
       "-1"
      ]
     },
     "execution_count": 31,
     "metadata": {},
     "output_type": "execute_result"
    }
   ],
   "source": [
    "knn(51.55,-0.52)"
   ]
  },
  {
   "cell_type": "code",
   "execution_count": null,
   "metadata": {},
   "outputs": [],
   "source": [
    "def invest(amt):\n",
    "    df=pd.read_csv('returns.csv')\n",
    "    df1=df[df['Average']<=amt]\n",
    "    df1=df1[df1['returns']<=30]\n",
    "    df1=df1.sort_values('returns')\n",
    "    print(df1[['Borough','Average','returns','total']])"
   ]
  },
  {
   "cell_type": "code",
   "execution_count": null,
   "metadata": {},
   "outputs": [],
   "source": [
    "amt=1000000"
   ]
  },
  {
   "cell_type": "code",
   "execution_count": null,
   "metadata": {},
   "outputs": [],
   "source": [
    "df=pd.read_csv('returns.csv')"
   ]
  },
  {
   "cell_type": "code",
   "execution_count": null,
   "metadata": {},
   "outputs": [
    {
     "data": {
      "text/html": [
       "<div>\n",
       "<style scoped>\n",
       "    .dataframe tbody tr th:only-of-type {\n",
       "        vertical-align: middle;\n",
       "    }\n",
       "\n",
       "    .dataframe tbody tr th {\n",
       "        vertical-align: top;\n",
       "    }\n",
       "\n",
       "    .dataframe thead th {\n",
       "        text-align: right;\n",
       "    }\n",
       "</style>\n",
       "<table border=\"1\" class=\"dataframe\">\n",
       "  <thead>\n",
       "    <tr style=\"text-align: right;\">\n",
       "      <th></th>\n",
       "      <th>Unnamed: 0</th>\n",
       "      <th>Borough</th>\n",
       "      <th>Average</th>\n",
       "      <th>latitude</th>\n",
       "      <th>longitude</th>\n",
       "      <th>total</th>\n",
       "      <th>finl_income</th>\n",
       "      <th>returns</th>\n",
       "    </tr>\n",
       "  </thead>\n",
       "  <tbody>\n",
       "    <tr>\n",
       "      <th>0</th>\n",
       "      <td>0</td>\n",
       "      <td>Barking and Dagenham</td>\n",
       "      <td>298620</td>\n",
       "      <td>51.542645</td>\n",
       "      <td>0.112094</td>\n",
       "      <td>149.0</td>\n",
       "      <td>13243.682726</td>\n",
       "      <td>22.548109</td>\n",
       "    </tr>\n",
       "    <tr>\n",
       "      <th>1</th>\n",
       "      <td>1</td>\n",
       "      <td>Barnet</td>\n",
       "      <td>519611</td>\n",
       "      <td>51.596730</td>\n",
       "      <td>-0.206281</td>\n",
       "      <td>802.0</td>\n",
       "      <td>14739.566877</td>\n",
       "      <td>35.252800</td>\n",
       "    </tr>\n",
       "    <tr>\n",
       "      <th>2</th>\n",
       "      <td>2</td>\n",
       "      <td>Bexley</td>\n",
       "      <td>336858</td>\n",
       "      <td>51.471405</td>\n",
       "      <td>0.137298</td>\n",
       "      <td>93.0</td>\n",
       "      <td>12142.052361</td>\n",
       "      <td>27.743086</td>\n",
       "    </tr>\n",
       "    <tr>\n",
       "      <th>3</th>\n",
       "      <td>3</td>\n",
       "      <td>Brent</td>\n",
       "      <td>474513</td>\n",
       "      <td>51.545745</td>\n",
       "      <td>-0.233753</td>\n",
       "      <td>1353.0</td>\n",
       "      <td>16150.777887</td>\n",
       "      <td>29.380195</td>\n",
       "    </tr>\n",
       "    <tr>\n",
       "      <th>4</th>\n",
       "      <td>4</td>\n",
       "      <td>Bromley</td>\n",
       "      <td>436460</td>\n",
       "      <td>51.401224</td>\n",
       "      <td>0.003821</td>\n",
       "      <td>297.0</td>\n",
       "      <td>14743.770240</td>\n",
       "      <td>29.603012</td>\n",
       "    </tr>\n",
       "  </tbody>\n",
       "</table>\n",
       "</div>"
      ],
      "text/plain": [
       "   Unnamed: 0               Borough  Average   latitude  longitude   total  \\\n",
       "0           0  Barking and Dagenham   298620  51.542645   0.112094   149.0   \n",
       "1           1                Barnet   519611  51.596730  -0.206281   802.0   \n",
       "2           2                Bexley   336858  51.471405   0.137298    93.0   \n",
       "3           3                 Brent   474513  51.545745  -0.233753  1353.0   \n",
       "4           4               Bromley   436460  51.401224   0.003821   297.0   \n",
       "\n",
       "    finl_income    returns  \n",
       "0  13243.682726  22.548109  \n",
       "1  14739.566877  35.252800  \n",
       "2  12142.052361  27.743086  \n",
       "3  16150.777887  29.380195  \n",
       "4  14743.770240  29.603012  "
      ]
     },
     "execution_count": 35,
     "metadata": {},
     "output_type": "execute_result"
    }
   ],
   "source": [
    "df.head()"
   ]
  },
  {
   "cell_type": "code",
   "execution_count": null,
   "metadata": {},
   "outputs": [
    {
     "name": "stdout",
     "output_type": "stream",
     "text": [
      "                 Borough  Average    returns   total\n",
      "24                Newham   363957  20.823054   936.0\n",
      "10             Greenwich   393062  21.942938   861.0\n",
      "22              Lewisham   409239  22.521199  1198.0\n",
      "0   Barking and Dagenham   298620  22.548109   149.0\n",
      "29         Tower Hamlets   438461  23.405029  4726.0\n",
      "30        Waltham Forest   430502  24.691130   711.0\n",
      "27             Southwark   499247  24.704627  2942.0\n",
      "7                Croydon   365441  24.711842   464.0\n",
      "17              Hounslow   400906  26.107989   548.0\n",
      "15              Havering   364778  26.203886    98.0\n",
      "28                Sutton   371875  26.429458   138.0\n",
      "2                 Bexley   336858  27.743086    93.0\n",
      "20  Kingston upon Thames   487195  29.243249   297.0\n",
      "3                  Brent   474513  29.380195  1353.0\n",
      "4                Bromley   436460  29.603012   297.0\n"
     ]
    }
   ],
   "source": [
    "invest(500000)"
   ]
  },
  {
   "cell_type": "code",
   "execution_count": null,
   "metadata": {},
   "outputs": [],
   "source": []
  },
  {
   "cell_type": "code",
   "execution_count": null,
   "metadata": {},
   "outputs": [
    {
     "data": {
      "text/plain": [
       "24    17478.560203\n",
       "Name: finl_income, dtype: float64"
      ]
     },
     "execution_count": 37,
     "metadata": {},
     "output_type": "execute_result"
    }
   ],
   "source": [
    "knn(place='Newham')"
   ]
  },
  {
   "cell_type": "code",
   "execution_count": null,
   "metadata": {},
   "outputs": [],
   "source": [
    "df = df[df['Borough']=='Newham']"
   ]
  },
  {
   "cell_type": "code",
   "execution_count": null,
   "metadata": {},
   "outputs": [
    {
     "data": {
      "text/html": [
       "<div>\n",
       "<style scoped>\n",
       "    .dataframe tbody tr th:only-of-type {\n",
       "        vertical-align: middle;\n",
       "    }\n",
       "\n",
       "    .dataframe tbody tr th {\n",
       "        vertical-align: top;\n",
       "    }\n",
       "\n",
       "    .dataframe thead th {\n",
       "        text-align: right;\n",
       "    }\n",
       "</style>\n",
       "<table border=\"1\" class=\"dataframe\">\n",
       "  <thead>\n",
       "    <tr style=\"text-align: right;\">\n",
       "      <th></th>\n",
       "      <th>Unnamed: 0</th>\n",
       "      <th>Borough</th>\n",
       "      <th>Average</th>\n",
       "      <th>latitude</th>\n",
       "      <th>longitude</th>\n",
       "      <th>total</th>\n",
       "      <th>finl_income</th>\n",
       "      <th>returns</th>\n",
       "    </tr>\n",
       "  </thead>\n",
       "  <tbody>\n",
       "    <tr>\n",
       "      <th>24</th>\n",
       "      <td>24</td>\n",
       "      <td>Newham</td>\n",
       "      <td>363957</td>\n",
       "      <td>51.527291</td>\n",
       "      <td>0.01904</td>\n",
       "      <td>936.0</td>\n",
       "      <td>17478.560203</td>\n",
       "      <td>20.823054</td>\n",
       "    </tr>\n",
       "  </tbody>\n",
       "</table>\n",
       "</div>"
      ],
      "text/plain": [
       "    Unnamed: 0 Borough  Average   latitude  longitude  total   finl_income  \\\n",
       "24          24  Newham   363957  51.527291    0.01904  936.0  17478.560203   \n",
       "\n",
       "      returns  \n",
       "24  20.823054  "
      ]
     },
     "execution_count": 39,
     "metadata": {},
     "output_type": "execute_result"
    }
   ],
   "source": [
    "df"
   ]
  },
  {
   "cell_type": "code",
   "execution_count": 10,
   "metadata": {},
   "outputs": [],
   "source": [
    "def knn1(latitude=0,longitude=0,place=0):\n",
    "    df=pd.read_csv('pred2.csv')\n",
    "    if(place!=0):\n",
    "        df=df[df['neighbourhood']==place]\n",
    "        return df['finl_income']\n",
    "    if(latitude>51.70 or latitude<51.25 or longitude<-0.5 or longitude>0.27):\n",
    "        return -1\n",
    "    df=df[['finl_income','latitude','longitude']]\n",
    "    df['calc']=(df['latitude']-latitude)**2+(df['longitude']-longitude)**2\n",
    "    df['calc']=df['calc']+0.00001\n",
    "    df['calc']=1/df['calc']\n",
    "    df=df.sort_values('calc')\n",
    "    df['calc2']=df['calc']*df['finl_income']\n",
    "    inc=list(df['calc2'])\n",
    "    inc1=list(df['calc'])\n",
    "    res=sum(inc[-3:])/sum(inc1[-3:])\n",
    "    return res"
   ]
  },
  {
   "cell_type": "code",
   "execution_count": 3,
   "metadata": {},
   "outputs": [
    {
     "ename": "NameError",
     "evalue": "name 'lati' is not defined",
     "output_type": "error",
     "traceback": [
      "\u001b[1;31m---------------------------------------------------------------------------\u001b[0m",
      "\u001b[1;31mNameError\u001b[0m                                 Traceback (most recent call last)",
      "\u001b[1;32m~\\AppData\\Local\\Temp/ipykernel_22448/44361162.py\u001b[0m in \u001b[0;36m<module>\u001b[1;34m\u001b[0m\n\u001b[0;32m      3\u001b[0m \u001b[0merr\u001b[0m\u001b[1;33m=\u001b[0m\u001b[0mlist\u001b[0m\u001b[1;33m(\u001b[0m\u001b[1;33m)\u001b[0m\u001b[1;33m\u001b[0m\u001b[1;33m\u001b[0m\u001b[0m\n\u001b[0;32m      4\u001b[0m \u001b[0merr1\u001b[0m\u001b[1;33m=\u001b[0m\u001b[0mlist\u001b[0m\u001b[1;33m(\u001b[0m\u001b[1;33m)\u001b[0m\u001b[1;33m\u001b[0m\u001b[1;33m\u001b[0m\u001b[0m\n\u001b[1;32m----> 5\u001b[1;33m \u001b[1;32mfor\u001b[0m \u001b[0mi\u001b[0m \u001b[1;32min\u001b[0m \u001b[0mrange\u001b[0m\u001b[1;33m(\u001b[0m\u001b[0mlen\u001b[0m\u001b[1;33m(\u001b[0m\u001b[0mlati\u001b[0m\u001b[1;33m)\u001b[0m\u001b[1;33m)\u001b[0m\u001b[1;33m:\u001b[0m\u001b[1;33m\u001b[0m\u001b[1;33m\u001b[0m\u001b[0m\n\u001b[0m\u001b[0;32m      6\u001b[0m     \u001b[0mpred\u001b[0m\u001b[1;33m=\u001b[0m\u001b[0mknn2\u001b[0m\u001b[1;33m(\u001b[0m\u001b[0mlati\u001b[0m\u001b[1;33m[\u001b[0m\u001b[0mi\u001b[0m\u001b[1;33m]\u001b[0m\u001b[1;33m,\u001b[0m\u001b[0mlongi\u001b[0m\u001b[1;33m[\u001b[0m\u001b[0mi\u001b[0m\u001b[1;33m]\u001b[0m\u001b[1;33m)\u001b[0m\u001b[1;33m\u001b[0m\u001b[1;33m\u001b[0m\u001b[0m\n\u001b[0;32m      7\u001b[0m     \u001b[0mpred1\u001b[0m\u001b[1;33m=\u001b[0m\u001b[0mknn1\u001b[0m\u001b[1;33m(\u001b[0m\u001b[0mlati\u001b[0m\u001b[1;33m[\u001b[0m\u001b[0mi\u001b[0m\u001b[1;33m]\u001b[0m\u001b[1;33m,\u001b[0m\u001b[0mlongi\u001b[0m\u001b[1;33m[\u001b[0m\u001b[0mi\u001b[0m\u001b[1;33m]\u001b[0m\u001b[1;33m)\u001b[0m\u001b[1;33m\u001b[0m\u001b[1;33m\u001b[0m\u001b[0m\n",
      "\u001b[1;31mNameError\u001b[0m: name 'lati' is not defined"
     ]
    }
   ],
   "source": [
    "dfd=pd.read_csv('pred2.csv')\n",
    "actual=list(dfd['finl_income'])\n",
    "err=list()\n",
    "err1=list()\n",
    "for i in range(len(lati)):\n",
    "    pred=knn2(lati[i],longi[i])\n",
    "    pred1=knn1(lati[i],longi[i])\n",
    "    print(actual[i],pred,pred1,sep='\\t',end='\\n')\n",
    "    err.append(abs(actual[i]-pred)/actual[i]*100)\n",
    "    err1.append(abs(actual[i]-pred1)/actual[i]*100)\n",
    "print(sum(err)/len(err))\n",
    "print(sum(err1)/len(err1))"
   ]
  },
  {
   "cell_type": "code",
   "execution_count": 12,
   "metadata": {},
   "outputs": [],
   "source": [
    "import numpy as np"
   ]
  },
  {
   "cell_type": "code",
   "execution_count": 9,
   "metadata": {},
   "outputs": [],
   "source": [
    "def knn2(latitude=0,longitude=0,place=0):\n",
    "    df=pd.read_csv('pred2.csv')\n",
    "    if(place!=0):\n",
    "        df=df[df['neighbourhood']==place]\n",
    "        return df['finl_income']\n",
    "    if(latitude>51.70 or latitude<51.25 or longitude<-0.5 or longitude>0.27):\n",
    "        return -1\n",
    "    df=df[['finl_income','latitude','longitude']]\n",
    "    df['latitude']=np.deg2rad(df['latitude'])\n",
    "    df['longitude']=np.deg2rad(df['longitude'])\n",
    "    latitude=latitude*22/(180*7)\n",
    "    longitude=longitude*22/(180*7)\n",
    "    df['nlati']=df['latitude']-latitude\n",
    "    df['nlongi']=df['longitude']-longitude\n",
    "    df['p1']=np.power(np.sin(df['nlati']/2),2)+np.cos(df['nlati'])*np.cos(df['nlongi'])*np.power(np.sin(df['nlongi']/2),2)\n",
    "    df['calc']=np.arcsin(np.sqrt(df['p1']))*2\n",
    "    df['calc']=df['calc']+0.00001\n",
    "    df['calc']=1/df['calc']\n",
    "    df=df.sort_values('calc')\n",
    "    df['calc2']=df['calc']*df['finl_income']\n",
    "    inc=list(df['calc2'])\n",
    "    inc1=list(df['calc'])\n",
    "    res=sum(inc[-3:])/sum(inc1[-3:])\n",
    "    return res"
   ]
  },
  {
   "cell_type": "code",
   "execution_count": 18,
   "metadata": {},
   "outputs": [
    {
     "name": "stdout",
     "output_type": "stream",
     "text": [
      "801.1588068643963\t2481.3445289756273\t30.821113109908765\n",
      "4.9061021671979095\t17.6351165795426\t0.15728196026241167\n"
     ]
    }
   ],
   "source": [
    "dfd=pd.read_csv('pred2.csv')\n",
    "actual=list(dfd['finl_income'])\n",
    "err=list()\n",
    "err1=list()\n",
    "for i in range(len(lati)):\n",
    "    pred=knn2(lati[i],longi[i])\n",
    "    # pred1=knn1(lati[i],longi[i])\n",
    "    # print(actual[i],pred,pred1,sep='\\t',end='\\n')\n",
    "    err.append(abs(actual[i]-pred))\n",
    "    err1.append(abs(((actual[i]-pred)/actual[i])*100))\n",
    "print(sum(err)/len(err),max(err),min(err),sep='\\t')\n",
    "print(sum(err1)/len(err1),max(err1),min(err1),sep='\\t')\n",
    "# print(sum(err1)/len(err1))"
   ]
  },
  {
   "cell_type": "code",
   "execution_count": 14,
   "metadata": {},
   "outputs": [
    {
     "data": {
      "text/plain": [
       "66.76323390536636"
      ]
     },
     "execution_count": 14,
     "metadata": {},
     "output_type": "execute_result"
    }
   ],
   "source": [
    "801.1588068643963/12"
   ]
  },
  {
   "cell_type": "code",
   "execution_count": 19,
   "metadata": {},
   "outputs": [
    {
     "name": "stdout",
     "output_type": "stream",
     "text": [
      "[111.55616420755359, 983.3805348449769, 494.30754060409345, 70.22252679243866, 1396.1384019084398, 664.1561835044013, 1572.9707184706494, 1841.756811212239, 317.2700754291527, 1713.469869936389, 127.6798667329931, 653.4553001190798, 104.05344707254335, 1151.4255839328216, 625.3673564133751, 180.83489101920713, 442.85780537518986, 457.2630557149296, 1575.7322912818418, 617.9221802893189, 306.19344186571834, 30.821113109908765, 592.7499662946284, 1013.4561777297058, 886.8312230382944, 728.7486055203553, 2170.949178922172, 803.9567794364702, 2481.3445289756273, 1033.4014161778723, 742.2107455411715, 348.0886848499649, 197.66816020155602]\n",
      "[13243.682726174497, 14739.566877057356, 12142.052361290322, 16150.77788706578, 14743.77024040404, 19788.52448744892, 19121.92588, 14788.092527586206, 14976.69135928009, 12596.148546325878, 17912.915788850172, 21117.491086670325, 19303.17584469045, 17950.676680140597, 13193.945730653268, 13920.759616326532, 12379.638540522876, 15355.682716058394, 21709.93550801051, 21098.425571406373, 16660.084565656565, 19596.08912458005, 18171.279775292154, 18500.88500031645, 17478.56020320513, 13272.499861754386, 18391.262069440458, 20208.64347518695, 14070.474202898553, 18733.62304947101, 17435.491717299577, 20981.11913811353, 20523.219142461963]\n",
      "[0.842334919327814, 6.6717057770241714, 4.071037794071611, 0.4347934649554917, 9.469344537684412, 3.356269356644803, 8.22600572945349, 12.454323015470479, 2.1184256777286183, 13.603125301631858, 0.7127810359744278, 3.0943794290579834, 0.5390483302319623, 6.414385398666782, 4.739805431823703, 1.2990303403208008, 3.577308044379178, 2.9778100014839533, 7.258115947421538, 2.9287596754459138, 1.83788648046188, 0.15728196026241167, 3.2620155191303706, 5.477879451239068, 5.073823087989089, 5.490665760866151, 11.804242529551544, 3.978281770488966, 17.6351165795426, 5.516292355455786, 4.2568959773285115, 1.659056805114079, 0.9631440313015329]\n"
     ]
    }
   ],
   "source": [
    "print(err,actual,err1,sep='\\n')"
   ]
  },
  {
   "cell_type": "code",
   "execution_count": 20,
   "metadata": {},
   "outputs": [
    {
     "name": "stdout",
     "output_type": "stream",
     "text": [
      "MAE(Mean Error in calculating the income of that place in a year): 801.1588068643963\n",
      "MAPE(Mean Percentage error in calculating the income of that place in a year): 4.9061021671979095\n"
     ]
    }
   ],
   "source": [
    "print('MAE(Mean Error in calculating the income of that place in a year):',sum(err)/len(err))\n",
    "print('MAPE(Mean Percentage error in calculating the income of that place in a year):',sum(err1)/len(err1))"
   ]
  },
  {
   "cell_type": "code",
   "execution_count": null,
   "metadata": {},
   "outputs": [],
   "source": []
  }
 ],
 "metadata": {
  "kernelspec": {
   "display_name": "Python 3.9.7 ('base')",
   "language": "python",
   "name": "python3"
  },
  "language_info": {
   "codemirror_mode": {
    "name": "ipython",
    "version": 3
   },
   "file_extension": ".py",
   "mimetype": "text/x-python",
   "name": "python",
   "nbconvert_exporter": "python",
   "pygments_lexer": "ipython3",
   "version": "3.9.7"
  },
  "orig_nbformat": 4,
  "vscode": {
   "interpreter": {
    "hash": "b131c3223c4bbe0e5f8a5fc16e1401c7cea0ae1eab5d898389696380fbb75120"
   }
  }
 },
 "nbformat": 4,
 "nbformat_minor": 2
}
